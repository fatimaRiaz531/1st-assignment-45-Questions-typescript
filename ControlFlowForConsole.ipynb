{
  "nbformat": 4,
  "nbformat_minor": 0,
  "metadata": {
    "colab": {
      "provenance": [],
      "toc_visible": true,
      "authorship_tag": "ABX9TyPq6Cfxetxkih/umO72knUU",
      "include_colab_link": true
    },
    "kernelspec": {
      "name": "python3",
      "display_name": "Python 3"
    },
    "language_info": {
      "name": "python"
    }
  },
  "cells": [
    {
      "cell_type": "markdown",
      "metadata": {
        "id": "view-in-github",
        "colab_type": "text"
      },
      "source": [
        "<a href=\"https://colab.research.google.com/github/fatimaRiaz531/1st-assignment-45-Questions-typescript/blob/main/ControlFlowForConsole.ipynb\" target=\"_parent\"><img src=\"https://colab.research.google.com/assets/colab-badge.svg\" alt=\"Open In Colab\"/></a>"
      ]
    },
    {
      "cell_type": "code",
      "execution_count": 4,
      "metadata": {
        "id": "nK10xTW0ZcR5"
      },
      "outputs": [],
      "source": [
        "import random\n",
        "from colorama import Fore, Style, init\n",
        "\n",
        "# Initialize colorama (required for Windows systems)\n",
        "init(autoreset=True)\n",
        "\n",
        "# Number of rounds to play\n",
        "NUM_ROUNDS = 5\n",
        "\n",
        "def main():\n",
        "    # Welcome message with emojis and colors\n",
        "    print(Fore.CYAN + \"🎉 Welcome to the High-Low Game! 🎉\")\n",
        "    print(Fore.MAGENTA + '--------------------------------')\n",
        "    print(Fore.YELLOW + \"Fatima's Game: Ap sb ka welcome hai! 😊\")\n",
        "\n",
        "    # Milestone 5: Keep track of the player's score\n",
        "    your_score = 0\n",
        "\n",
        "    # Milestone 4: Play multiple rounds\n",
        "    for i in range(NUM_ROUNDS):\n",
        "        print(Fore.GREEN + f\"\\n🌟 Round {i + 1} 🌟\")\n",
        "\n",
        "        # Milestone 1: Generate random numbers for the computer and the player\n",
        "        computer_num = random.randint(1, 100)\n",
        "        your_num = random.randint(1, 100)\n",
        "        print(Fore.WHITE + f\"🎲 Your number is {your_num}\")\n",
        "\n",
        "        # Milestone 2: Get user input for their choice (higher or lower)\n",
        "        choice = input(Fore.CYAN + \"🤔 Do you think your number is higher or lower than the computer's?: \")\n",
        "\n",
        "        # Extension 1: Safeguard user input to ensure valid choices\n",
        "        while choice.lower() not in [\"higher\", \"lower\"]:\n",
        "            choice = input(Fore.RED + \"⚠️ Please enter either 'higher' or 'lower': \")\n",
        "\n",
        "        # Milestone 3: Determine if the player's guess is correct\n",
        "        if (choice == \"higher\" and your_num > computer_num) or (choice == \"lower\" and your_num < computer_num):\n",
        "            print(Fore.GREEN + f\"✅ You were right! The computer's number was {computer_num}\")\n",
        "            your_score += 1  # Increment the score if the guess is correct\n",
        "        else:\n",
        "            print(Fore.RED + f\"❌ Aww, that's incorrect. The computer's number was {computer_num}\")\n",
        "\n",
        "        # Milestone 5: Display the current score after each round\n",
        "        print(Fore.YELLOW + f\"🎯 Your score is now {your_score}\")\n",
        "        print()  # Add a blank line to separate rounds visually\n",
        "\n",
        "    # Extension 2: Conditional ending messages based on performance\n",
        "    print(Fore.CYAN + \"\\n🎉 Thanks for playing! 🎉\")\n",
        "    print(Fore.YELLOW + f\"🏆 Your final score is {your_score}\")\n",
        "\n",
        "    if your_score == NUM_ROUNDS:\n",
        "        print(Fore.GREEN + \"✨ Wow! You played perfectly! ✨\")\n",
        "    elif your_score > NUM_ROUNDS // 2:\n",
        "        print(Fore.GREEN + \"👏 Good job, you played really well! 👏\")\n",
        "    else:\n",
        "        print(Fore.RED + \"💪 Better luck next time! 💪\")\n",
        "\n",
        "# Run the game\n",
        "if __name__ == \"__main__\":\n",
        "    main()"
      ]
    }
  ]
}